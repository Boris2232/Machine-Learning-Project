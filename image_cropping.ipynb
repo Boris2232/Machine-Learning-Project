{
  "nbformat": 4,
  "nbformat_minor": 0,
  "metadata": {
    "colab": {
      "provenance": [],
      "authorship_tag": "ABX9TyNbvX8+qGuVGKbqdAaEEAgH",
      "include_colab_link": true
    },
    "kernelspec": {
      "name": "python3",
      "display_name": "Python 3"
    },
    "language_info": {
      "name": "python"
    }
  },
  "cells": [
    {
      "cell_type": "markdown",
      "metadata": {
        "id": "view-in-github",
        "colab_type": "text"
      },
      "source": [
        "<a href=\"https://colab.research.google.com/github/Boris2232/Machine-Learning-Project/blob/main/image_cropping.ipynb\" target=\"_parent\"><img src=\"https://colab.research.google.com/assets/colab-badge.svg\" alt=\"Open In Colab\"/></a>"
      ]
    },
    {
      "cell_type": "code",
      "execution_count": null,
      "metadata": {
        "colab": {
          "base_uri": "https://localhost:8080/"
        },
        "id": "TR479q5G_Nxu",
        "outputId": "3ff9cadc-34b1-4556-dad3-d488e9d02f55"
      },
      "outputs": [
        {
          "output_type": "stream",
          "name": "stdout",
          "text": [
            "Drive already mounted at /content/drive; to attempt to forcibly remount, call drive.mount(\"/content/drive\", force_remount=True).\n"
          ]
        }
      ],
      "source": [
        "# This block is required if you have not enough data to conduct training. With this code you can easily find images in internet with different resolution and background, and crop it using deepface library.\n",
        "# feel free to use the code below to conduct your own researches\n",
        "\n",
        "\n",
        "\n",
        "\n",
        "# if you have google drive you can connect to it and start cropping\n",
        "# from google.colab import drive\n",
        "# drive.mount('/content/drive')\n",
        "from deepface import DeepFace\n",
        "from deepface.commons import functions\n",
        "import cv2\n",
        "import os"
      ]
    },
    {
      "cell_type": "code",
      "source": [
        "input_folder='./drive/MyDrive/UTKFace'\n",
        "output_folder='./drive/MyDrive/Cropped_UTKFace'"
      ],
      "metadata": {
        "id": "ZGDkhX-t_Rbe"
      },
      "execution_count": null,
      "outputs": []
    },
    {
      "cell_type": "code",
      "source": [
        "# choosing backend\n",
        "backend = 'mtcnn'\n",
        "counter=0\n",
        "for filename in os.listdir(input_folder):\n",
        "    counter+=1\n",
        "    # printing current progress\n",
        "    print(counter,f'/{len(os.listdir(input_folder))}')\n",
        "    # checking if it is an image\n",
        "    if filename.endswith(\".jpg\") or filename.endswith(\".png\"):\n",
        "      image_path=f'{input_folder}/{filename}'\n",
        "      image = cv2.imread(image_path)\n",
        "      # detect image and cut out its background\n",
        "      detected_face = functions.extract_faces(img = image_path, detector_backend = backend)\n",
        "      x = detected_face[0][1]['x']\n",
        "      y = detected_face[0][1]['y']\n",
        "      w = detected_face[0][1]['w']\n",
        "      h = detected_face[0][1]['h']\n",
        "      face = image[y:y+h, x:x+w]\n",
        "      # choose output image name\n",
        "      output_filename = f\"{filename}\"\n",
        "      output_path = f'{output_folder}/{filename}'\n",
        "      # save everything to a different folder\n",
        "      cv2.imwrite(output_path, face)"
      ],
      "metadata": {
        "colab": {
          "base_uri": "https://localhost:8080/"
        },
        "id": "5sL7uBfRBAvR",
        "outputId": "bfef83b2-b840-4bfb-e069-154638631651"
      },
      "execution_count": null,
      "outputs": [
        {
          "output_type": "stream",
          "name": "stdout",
          "text": [
            "3340\n"
          ]
        }
      ]
    }
  ]
}