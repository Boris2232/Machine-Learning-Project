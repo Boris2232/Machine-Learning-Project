{
  "nbformat": 4,
  "nbformat_minor": 0,
  "metadata": {
    "colab": {
      "provenance": [],
      "authorship_tag": "ABX9TyO4LEGroQIS4+PoPnC8q8iW",
      "include_colab_link": true
    },
    "kernelspec": {
      "name": "python3",
      "display_name": "Python 3"
    },
    "language_info": {
      "name": "python"
    }
  },
  "cells": [
    {
      "cell_type": "markdown",
      "metadata": {
        "id": "view-in-github",
        "colab_type": "text"
      },
      "source": [
        "<a href=\"https://colab.research.google.com/github/Boris2232/Machine-Learning-Project/blob/main/Preparing_datatsets.ipynb\" target=\"_parent\"><img src=\"https://colab.research.google.com/assets/colab-badge.svg\" alt=\"Open In Colab\"/></a>"
      ]
    },
    {
      "cell_type": "code",
      "execution_count": null,
      "metadata": {
        "id": "tM4CUAZZ-zlf"
      },
      "outputs": [],
      "source": [
        "import os\n",
        "import pandas as pd"
      ]
    },
    {
      "cell_type": "markdown",
      "source": [
        "I have choosen to work with pytorch.ImageFolder\n",
        "it requires to store data accordingly to this scheme\n",
        "--------------------------------------------------------------------------------\n",
        "                                  ├── train\n",
        "                                  │   ├── class1\n",
        "                                  |      ├── 1.jpg\n",
        "                                  │      ├── 2.jpg\n",
        "                                  │   ├── class2\n",
        "                                  |      ├── 1.jpg\n",
        "                                  │      ├── 2.jpg\n",
        "                                  ├── valid\n",
        "                                  │   ├── class1\n",
        "                                  |      ├── 1.jpg\n",
        "                                  │      ├── 2.jpg\n",
        "                                  │   ├── class2\n",
        "                                  |      ├── 1.jpg\n",
        "                                  │      ├── 2.jpg\n",
        "--------------------------------------------------------------------------------\n",
        "-From in_folder we extract images\n",
        "\n",
        "-using pd.read_csv it is possible to store information in DataFrame\n",
        "\n",
        "-we numerate classes from 0 to the last\n",
        "\n",
        "-DataFrame contains informations about all pictures, with pandas.loc we choose row with given condition\n",
        "\n",
        "-in dir_name i store infirmation in 'Series' format, to_string method converts this to string\n",
        "\n",
        "-with os.listdir move files to another destination\n",
        "\n",
        "--------------------------------------------------------------------------------\n",
        "As in the following example we create new folders in required format. The same actions are done with UTK and RAF datasets.\n"
      ],
      "metadata": {
        "id": "b7b_3KOi_ESM"
      }
    },
    {
      "cell_type": "code",
      "source": [
        "in_folder='./Fair_Face/Train'\n",
        "out_folder='./Fair_Face_with_classes/Train'\n",
        "counter=0\n",
        "with open('./Fair_Face/fairface_label_train.csv','r') as file:\n",
        "    df=pd.read_csv(file)\n",
        "df['file']=df['file'].str.split('/').str[1]\n",
        "classes = [0, 1, 2, 3, 4, 5, 6, 7, 8]\n",
        "classes_names = {'0-2':0, '3-9':1, '10-19':2, '20-29':3, '30-39':4, '40-49':5, '50-59':6, '60-69':7, 'more than 70':8}\n",
        "ovr=len(os.listdir(f'{in_folder}'))\n",
        "for i in os.listdir(f'{in_folder}'):\n",
        "    counter+=1\n",
        "    dir_name=classes_names[df['age'].loc[df['file']==i].to_string(index=False)]\n",
        "    src=f'{in_folder}/{i}'\n",
        "    dst=f'{out_folder}/{dir_name}/{i}'\n",
        "    os.replace(src, dst)\n",
        "    print(f'{counter}/{ovr}')"
      ],
      "metadata": {
        "id": "CQ5RasxZ-0Gf"
      },
      "execution_count": null,
      "outputs": []
    }
  ]
}